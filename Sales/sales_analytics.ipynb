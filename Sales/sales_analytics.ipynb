{
 "cells": [
  {
   "cell_type": "code",
   "execution_count": 13,
   "id": "5ffd64e5-a0ae-4db6-9840-2969c8c65573",
   "metadata": {},
   "outputs": [],
   "source": [
    "import pandas as pd\n",
    "import matplotlib.pyplot as plt"
   ]
  },
  {
   "cell_type": "code",
   "execution_count": 8,
   "id": "08fbee5e-1782-47f3-a660-f945bc550108",
   "metadata": {},
   "outputs": [
    {
     "name": "stdout",
     "output_type": "stream",
     "text": [
      "       date product  quantity  price\n",
      "0  01-09-25     Non         3   3000\n",
      "1  01-09-25     Sut        20   6000\n",
      "2  01-09-25    Yog'        10  15000\n",
      "3  02-09-25     Non        25   3000\n",
      "4  02-09-25     Sut        30   6000\n",
      "5  02-09-25    Yog'         5  15000\n",
      "6  03-09-25     Non        40   3000\n",
      "7  03-09-25     Sut        22   6000\n",
      "8  03-09-25    Yog'         8  15000\n"
     ]
    }
   ],
   "source": [
    "# CSV faylni o'qish\n",
    "df = pd.read_csv('sales.csv')\n",
    "print(df)"
   ]
  },
  {
   "cell_type": "code",
   "execution_count": 9,
   "id": "536a1c73-dbae-4fcc-b321-345dbbe17d82",
   "metadata": {},
   "outputs": [],
   "source": [
    "# Har bir mahsulotdan tushgan umumiy daromad\n",
    "df['revenue'] = df['quantity'] * df['price']"
   ]
  },
  {
   "cell_type": "code",
   "execution_count": 10,
   "id": "a7bfa725-a24c-4969-bc24-11738a82e262",
   "metadata": {},
   "outputs": [
    {
     "name": "stdout",
     "output_type": "stream",
     "text": [
      "\n",
      "Mahsulotlar bo'yicha umumiy daromad:\n",
      "product\n",
      "Non     204000\n",
      "Sut     432000\n",
      "Yog'    345000\n",
      "Name: revenue, dtype: int64\n"
     ]
    }
   ],
   "source": [
    "# Mahsulotlar bo‘yicha umumiy daromad\n",
    "product_revenue = df.groupby('product')['revenue'].sum()\n",
    "print(\"\\nMahsulotlar bo'yicha umumiy daromad:\")\n",
    "print(product_revenue)"
   ]
  },
  {
   "cell_type": "code",
   "execution_count": 11,
   "id": "b39d19bc-be81-46c3-a916-d1a6e9c9192f",
   "metadata": {},
   "outputs": [
    {
     "name": "stdout",
     "output_type": "stream",
     "text": [
      "\n",
      "Kunlik daromad:\n",
      "date\n",
      "01-09-25    279000\n",
      "02-09-25    330000\n",
      "03-09-25    372000\n",
      "Name: revenue, dtype: int64\n"
     ]
    }
   ],
   "source": [
    "# Sanalar bo‘yicha jami daromad\n",
    "daily_revenue = df.groupby('date')['revenue'].sum()\n",
    "print(\"\\nKunlik daromad:\")\n",
    "print(daily_revenue)"
   ]
  },
  {
   "cell_type": "code",
   "execution_count": 14,
   "id": "800b9b23-b0d3-43ba-92fa-9705dc3367d6",
   "metadata": {},
   "outputs": [
    {
     "data": {
      "image/png": "[encoded data removed]",
      "text/plain": [
       "<Figure size 600x400 with 1 Axes>"
      ]
     },
     "metadata": {},
     "output_type": "display_data"
    }
   ],
   "source": [
    "# Grafik 1: Mahsulotlar bo‘yicha daromad\n",
    "product_revenue.plot(kind='bar', figsize=(6, 4), title=\"Mahsulotlar bo'yicha umumiy daromad\")\n",
    "plt.ylabel(\"So'm\")\n",
    "plt.show()"
   ]
  },
  {
   "cell_type": "code",
   "execution_count": null,
   "id": "68ee8c25-3122-4b05-b21f-195926d285c5",
   "metadata": {},
   "outputs": [],
   "source": [
    "# Grafik 2: Kunlik daromad\n",
    "daily_revenue.plot(kind=\"line\", marker='o')"
   ]
  }
 ],
 "metadata": {
  "kernelspec": {
   "display_name": "Python 3 (ipykernel)",
   "language": "python",
   "name": "python3"
  },
  "language_info": {
   "codemirror_mode": {
    "name": "ipython",
    "version": 3
   },
   "file_extension": ".py",
   "mimetype": "text/x-python",
   "name": "python",
   "nbconvert_exporter": "python",
   "pygments_lexer": "ipython3",
   "version": "3.13.7"
  }
 },
 "nbformat": 4,
 "nbformat_minor": 5
}
